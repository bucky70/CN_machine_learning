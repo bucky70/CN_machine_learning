{
 "cells": [
  {
   "cell_type": "code",
   "execution_count": 1,
   "metadata": {},
   "outputs": [
    {
     "name": "stdout",
     "output_type": "stream",
     "text": [
      "[0, 1, 2, 3, 4, 5, 6, 7, 8, 9, 10, 11, 12, 13, 14, 15, 16, 17, 18, 19, 20, 21, 22, 23, 24, 25, 26, 27, 28, 29, 30, 31, 32, 33, 34, 35, 36, 37, 38, 39, 40, 41, 42, 43, 44, 45, 46, 47, 48, 49, 50, 51, 52, 53, 54, 55, 56, 57, 58, 59, 60, 61, 62, 63, 64, 65, 66, 67, 68, 69, 70, 71, 72, 73, 74, 75, 76, 77, 78, 79, 80, 81, 82, 83, 84, 85, 86, 87, 88, 89, 90, 91, 92, 93, 94, 95, 96, 97, 98, 99]\n",
      "100\n"
     ]
    }
   ],
   "source": [
    "import numpy as np\n",
    "li_arr=[i for i in range(0,100)]\n",
    "np_arr=np.array(100)\n",
    "print(li_arr)\n",
    "print(np_arr)"
   ]
  },
  {
   "cell_type": "markdown",
   "metadata": {},
   "source": [
    "numpy is faster because of vectorisation"
   ]
  },
  {
   "cell_type": "code",
   "execution_count": 3,
   "metadata": {},
   "outputs": [
    {
     "name": "stdout",
     "output_type": "stream",
     "text": [
      "['1' '2' '3' '5' '4.6']\n"
     ]
    }
   ],
   "source": [
    "a=[1,2,3,'5',4.6]\n",
    "b=np.array(a)\n",
    "print(b)"
   ]
  },
  {
   "cell_type": "code",
   "execution_count": 6,
   "metadata": {},
   "outputs": [
    {
     "name": "stdout",
     "output_type": "stream",
     "text": [
      "[1 2 3 5 4]\n"
     ]
    }
   ],
   "source": [
    "from numpy import dtype\n",
    "\n",
    "\n",
    "a=[1,2,3,'5',4.6]\n",
    "b=np.array(a,dtype=int)\n",
    "print(b)"
   ]
  },
  {
   "cell_type": "markdown",
   "metadata": {},
   "source": [
    "numpy uses only homogeneous type"
   ]
  },
  {
   "cell_type": "code",
   "execution_count": 7,
   "metadata": {},
   "outputs": [
    {
     "name": "stdout",
     "output_type": "stream",
     "text": [
      "['1' '2' '3' '5' 'a' '4.6']\n"
     ]
    }
   ],
   "source": [
    "a=[1,2,3,'5','a',4.6]\n",
    "b=np.array(a)\n",
    "print(b)"
   ]
  },
  {
   "cell_type": "code",
   "execution_count": 8,
   "metadata": {},
   "outputs": [
    {
     "name": "stdout",
     "output_type": "stream",
     "text": [
      "['1' '2' '3' '5' '6' '4.6']\n"
     ]
    }
   ],
   "source": [
    "a=[1,2,3,'5','6',4.6]\n",
    "b=np.array(a,dtype=str)\n",
    "print(b)"
   ]
  },
  {
   "cell_type": "code",
   "execution_count": 14,
   "metadata": {},
   "outputs": [
    {
     "name": "stdout",
     "output_type": "stream",
     "text": [
      "[1 1 1]\n",
      "['1' '2' '3' '5' '6' '4.6' '1' '2' '3' '5' '6' '4.6' '1' '2' '3' '5' '6'\n",
      " '4.6']\n",
      "[0 0 0 0 0]\n"
     ]
    }
   ],
   "source": [
    "c=np.ones(3,dtype=int)\n",
    "d=np.array(a*3)\n",
    "e=np.zeros(5,dtype=int)\n",
    "print(c)\n",
    "print(d)\n",
    "print(e)"
   ]
  },
  {
   "cell_type": "code",
   "execution_count": 15,
   "metadata": {},
   "outputs": [
    {
     "name": "stdout",
     "output_type": "stream",
     "text": [
      "[[0 0 0]\n",
      " [0 0 0]\n",
      " [0 0 0]]\n"
     ]
    }
   ],
   "source": [
    "f=np.zeros((3,3),dtype=int)\n",
    "print(f)"
   ]
  },
  {
   "cell_type": "code",
   "execution_count": 18,
   "metadata": {},
   "outputs": [
    {
     "name": "stdout",
     "output_type": "stream",
     "text": [
      "[[0. 0. 0. 0.]\n",
      " [0. 0. 0. 0.]\n",
      " [0. 0. 0. 0.]]\n"
     ]
    }
   ],
   "source": [
    "b=np.zeros((3,4))\n",
    "print(b)"
   ]
  },
  {
   "cell_type": "code",
   "execution_count": 20,
   "metadata": {},
   "outputs": [
    {
     "name": "stdout",
     "output_type": "stream",
     "text": [
      "[5 5 5]\n"
     ]
    }
   ],
   "source": [
    "b=np.full(3,5)\n",
    "print(b)"
   ]
  },
  {
   "cell_type": "code",
   "execution_count": 21,
   "metadata": {},
   "outputs": [
    {
     "name": "stdout",
     "output_type": "stream",
     "text": [
      "[[5 5 5]\n",
      " [5 5 5]\n",
      " [5 5 5]]\n"
     ]
    }
   ],
   "source": [
    "b=np.full((3,3),5,dtype=int)\n",
    "print(b)"
   ]
  },
  {
   "cell_type": "code",
   "execution_count": 24,
   "metadata": {},
   "outputs": [
    {
     "name": "stdout",
     "output_type": "stream",
     "text": [
      "[0 0 0 0]\n"
     ]
    }
   ],
   "source": [
    "a = np.empty(4, dtype = int)\n",
    "print(a)"
   ]
  },
  {
   "cell_type": "code",
   "execution_count": 26,
   "metadata": {},
   "outputs": [
    {
     "name": "stdout",
     "output_type": "stream",
     "text": [
      "<class 'numpy.ndarray'>\n"
     ]
    }
   ],
   "source": [
    "d=[[1, 2, 3], [4, 5, 6], [7, 8, 9]]\n",
    "e=np.array(d)\n",
    "print(type(e))"
   ]
  },
  {
   "cell_type": "code",
   "execution_count": 33,
   "metadata": {},
   "outputs": [
    {
     "name": "stdout",
     "output_type": "stream",
     "text": [
      "[0 0 0 0 1 0 0 0 0 0]\n",
      "<class 'numpy.ndarray'>\n"
     ]
    }
   ],
   "source": [
    "f=np.zeros(10,dtype=int)\n",
    "\n",
    "f[4]=1\n",
    "print(f)\n",
    "print(type(f))"
   ]
  },
  {
   "cell_type": "markdown",
   "metadata": {},
   "source": [
    "np.arage"
   ]
  },
  {
   "cell_type": "code",
   "execution_count": 36,
   "metadata": {},
   "outputs": [
    {
     "name": "stdout",
     "output_type": "stream",
     "text": [
      "[1 2 3 4 5 6 7 8 9]\n"
     ]
    }
   ],
   "source": [
    "a=np.arange(10)\n",
    "a=np.arange(2,20,2)\n",
    "a=np.arange(1,10)\n",
    "print(a)"
   ]
  },
  {
   "cell_type": "markdown",
   "metadata": {},
   "source": [
    "np.linespace"
   ]
  },
  {
   "cell_type": "code",
   "execution_count": 43,
   "metadata": {},
   "outputs": [
    {
     "name": "stdout",
     "output_type": "stream",
     "text": [
      "[ 2  2  3  4  5  6  7  8  9 10]\n",
      "1\n",
      "1\n"
     ]
    }
   ],
   "source": [
    "b=np.linspace(2,10,10,dtype=int) #50 samples by default\n",
    "print(b)\n",
    "print(b[2]-b[1])\n",
    "print(b[4]-b[3])"
   ]
  },
  {
   "cell_type": "code",
   "execution_count": 45,
   "metadata": {},
   "outputs": [
    {
     "name": "stdout",
     "output_type": "stream",
     "text": [
      "[2 2 3 4 5 6 6 7 8 9]\n"
     ]
    }
   ],
   "source": [
    "b=np.linspace(2,10,10,dtype=int,endpoint=False)\n",
    "print(b)"
   ]
  },
  {
   "cell_type": "code",
   "execution_count": 47,
   "metadata": {},
   "outputs": [
    {
     "name": "stdout",
     "output_type": "stream",
     "text": [
      "[[1. 0. 0.]\n",
      " [0. 1. 0.]\n",
      " [0. 0. 1.]]\n",
      "[[1. 0. 0. 0.]\n",
      " [0. 1. 0. 0.]\n",
      " [0. 0. 1. 0.]]\n"
     ]
    }
   ],
   "source": [
    "print(np.identity(3))\n",
    "print(np.eye(3,4))"
   ]
  },
  {
   "cell_type": "code",
   "execution_count": 49,
   "metadata": {},
   "outputs": [
    {
     "name": "stdout",
     "output_type": "stream",
     "text": [
      "[0.36369111 0.74025949 0.27235072]\n"
     ]
    }
   ],
   "source": [
    "a=np.random.rand(3)\n",
    "print(a)"
   ]
  },
  {
   "cell_type": "code",
   "execution_count": 58,
   "metadata": {},
   "outputs": [
    {
     "name": "stdout",
     "output_type": "stream",
     "text": [
      "[0.99438984 0.59228207 0.58561766]\n"
     ]
    },
    {
     "data": {
      "text/plain": [
       "(3,)"
      ]
     },
     "execution_count": 58,
     "metadata": {},
     "output_type": "execute_result"
    }
   ],
   "source": [
    "a=np.random.rand(3)\n",
    "print(a)\n",
    "a.shape"
   ]
  },
  {
   "cell_type": "code",
   "execution_count": 62,
   "metadata": {},
   "outputs": [
    {
     "data": {
      "text/plain": [
       "0.7945616646741107"
      ]
     },
     "execution_count": 62,
     "metadata": {},
     "output_type": "execute_result"
    }
   ],
   "source": [
    "np.random.rand()"
   ]
  },
  {
   "cell_type": "code",
   "execution_count": 53,
   "metadata": {},
   "outputs": [
    {
     "name": "stdout",
     "output_type": "stream",
     "text": [
      "[3.34325438 1.64810652 9.78556972 5.44680014 9.26937637 9.29081901\n",
      " 9.23876797 3.01766996 9.40857304 4.65111391]\n"
     ]
    }
   ],
   "source": [
    "print(np.random.rand(10)*10) #values getting multiplies by 10"
   ]
  },
  {
   "cell_type": "code",
   "execution_count": 55,
   "metadata": {},
   "outputs": [
    {
     "name": "stdout",
     "output_type": "stream",
     "text": [
      "[0 1 2 3]\n"
     ]
    },
    {
     "data": {
      "text/plain": [
       "(4,)"
      ]
     },
     "execution_count": 55,
     "metadata": {},
     "output_type": "execute_result"
    }
   ],
   "source": [
    "a = np.array([0, 1, 2, 3])\n",
    "print(a)\n",
    "a.shape"
   ]
  },
  {
   "cell_type": "markdown",
   "metadata": {},
   "source": [
    "numpy create array with values from 9 to 49 consecutively"
   ]
  },
  {
   "cell_type": "code",
   "execution_count": 63,
   "metadata": {},
   "outputs": [
    {
     "name": "stdout",
     "output_type": "stream",
     "text": [
      "[ 9 10 11 12 13 14 15 16 17 18 19 20 21 22 23 24 25 26 27 28 29 30 31 32\n",
      " 33 34 35 36 37 38 39 40 41 42 43 44 45 46 47 48]\n"
     ]
    }
   ],
   "source": [
    "a=np.arange(9,50)\n",
    "print(a)"
   ]
  },
  {
   "cell_type": "markdown",
   "metadata": {},
   "source": [
    "Create an integer identity matrix of size (5, 6).\n",
    "Print the Numpy array."
   ]
  },
  {
   "cell_type": "code",
   "execution_count": 65,
   "metadata": {},
   "outputs": [
    {
     "name": "stdout",
     "output_type": "stream",
     "text": [
      "[[1 0 0 0 0 0]\n",
      " [0 1 0 0 0 0]\n",
      " [0 0 1 0 0 0]\n",
      " [0 0 0 1 0 0]\n",
      " [0 0 0 0 1 0]]\n"
     ]
    }
   ],
   "source": [
    "b=np.eye(5,6,dtype=int)\n",
    "print(b)"
   ]
  },
  {
   "cell_type": "markdown",
   "metadata": {},
   "source": [
    "You are given a rope of length 5m. Cut the rope into 9 parts such that each part is of equal length.\n",
    "Note:Array elements are the points where cut is to be made and round upto 2 decimal place.\n",
    "Print the array element."
   ]
  },
  {
   "cell_type": "code",
   "execution_count": 70,
   "metadata": {},
   "outputs": [
    {
     "name": "stdout",
     "output_type": "stream",
     "text": [
      "[0.  0.5 1.  1.5 2.  2.5 3.  3.5 4.  4.5]\n"
     ]
    }
   ],
   "source": [
    "c=np.arange(0,5,0.5)\n",
    "print(c)"
   ]
  },
  {
   "cell_type": "code",
   "execution_count": 71,
   "metadata": {},
   "outputs": [
    {
     "name": "stdout",
     "output_type": "stream",
     "text": [
      "[0.         0.55555556 1.11111111 1.66666667 2.22222222 2.77777778\n",
      " 3.33333333 3.88888889 4.44444444 5.        ]\n"
     ]
    }
   ],
   "source": [
    "c=np.linspace(0,5,10)\n",
    "print(c)"
   ]
  },
  {
   "cell_type": "markdown",
   "metadata": {},
   "source": [
    "indexing and slicing"
   ]
  },
  {
   "cell_type": "code",
   "execution_count": 73,
   "metadata": {},
   "outputs": [],
   "source": [
    "li=[1,2,3,4,4,5,5,6,6]\n",
    "arr=np.array(li)\n",
    "li_2d=[[1,2,3,4],[5,6,7,8],[9,8,7,6],[5,4,3,2]]\n",
    "arr_2d=np.array(li_2d)"
   ]
  },
  {
   "cell_type": "code",
   "execution_count": null,
   "metadata": {},
   "outputs": [],
   "source": [
    "print(li_2d[2][1])\n",
    "print(arr_2d[2][1])\n",
    "print(arr_2d[2,1])"
   ]
  },
  {
   "cell_type": "code",
   "execution_count": null,
   "metadata": {},
   "outputs": [],
   "source": [
    "print(li_2d[1][:3])\n",
    "print(arr_2d[1,:3])\n"
   ]
  },
  {
   "cell_type": "code",
   "execution_count": 74,
   "metadata": {},
   "outputs": [
    {
     "name": "stdout",
     "output_type": "stream",
     "text": [
      "[9, 8, 7, 6]\n",
      "[3 7 7]\n"
     ]
    }
   ],
   "source": [
    "print(li_2d[:3][2]) # gives something else\n",
    "print(arr_2d[:3,2])"
   ]
  },
  {
   "cell_type": "code",
   "execution_count": 75,
   "metadata": {},
   "outputs": [
    {
     "name": "stdout",
     "output_type": "stream",
     "text": [
      "[[5, 4, 3, 2]]\n",
      "[[8 7]\n",
      " [4 3]]\n"
     ]
    }
   ],
   "source": [
    "print(li_2d[2:4][1:3])\n",
    "print(arr_2d[2:4,1:3])"
   ]
  },
  {
   "cell_type": "markdown",
   "metadata": {},
   "source": [
    "Mathematical operations"
   ]
  },
  {
   "cell_type": "code",
   "execution_count": 78,
   "metadata": {},
   "outputs": [],
   "source": [
    "li=[1,2,3,4,5,6]\n",
    "a=np.random.randint(1,20,5) #why 5 array size\n",
    "b=np.random.randint(1,20,5)"
   ]
  },
  {
   "cell_type": "code",
   "execution_count": 76,
   "metadata": {},
   "outputs": [
    {
     "data": {
      "text/plain": [
       "[2, 3, 4, 5, 5, 6, 6, 7, 7]"
      ]
     },
     "execution_count": 76,
     "metadata": {},
     "output_type": "execute_result"
    }
   ],
   "source": [
    "li=[i+1 for i in li]\n",
    "li"
   ]
  },
  {
   "cell_type": "code",
   "execution_count": 79,
   "metadata": {},
   "outputs": [
    {
     "data": {
      "text/plain": [
       "array([12, 20,  2,  7, 10])"
      ]
     },
     "execution_count": 79,
     "metadata": {},
     "output_type": "execute_result"
    }
   ],
   "source": [
    "a=a+1\n",
    "a"
   ]
  },
  {
   "cell_type": "code",
   "execution_count": null,
   "metadata": {},
   "outputs": [],
   "source": [
    "c=a+b\n",
    "d=a-b\n",
    "e=a/b\n",
    "f=a//b"
   ]
  },
  {
   "cell_type": "code",
   "execution_count": 81,
   "metadata": {},
   "outputs": [
    {
     "name": "stdout",
     "output_type": "stream",
     "text": [
      "[12 20  2  7 10]\n",
      "51\n",
      "10.2\n",
      "2\n",
      "20\n",
      "2\n",
      "2\n"
     ]
    }
   ],
   "source": [
    "print(a)\n",
    "print(a.sum())\n",
    "print(a.mean())\n",
    "print(a.min())\n",
    "print(a.max())\n",
    "print(a.argmin()) #index of min\n",
    "print(a.argmin()) #index of max"
   ]
  },
  {
   "cell_type": "code",
   "execution_count": 83,
   "metadata": {},
   "outputs": [
    {
     "name": "stdout",
     "output_type": "stream",
     "text": [
      "[False False  True False False]\n",
      "[ True  True False  True  True]\n",
      "[False False False False False]\n",
      "[False False False False False]\n"
     ]
    }
   ],
   "source": [
    "print(a<b)\n",
    "print(a>b)\n",
    "print(a==b)\n",
    "print(np.logical_not(a))"
   ]
  },
  {
   "cell_type": "markdown",
   "metadata": {},
   "source": [
    "boolean indexing"
   ]
  },
  {
   "cell_type": "code",
   "execution_count": 84,
   "metadata": {},
   "outputs": [
    {
     "name": "stdout",
     "output_type": "stream",
     "text": [
      "[ 7  8  1 12 18  5 16 11]\n",
      "[False False False  True  True False  True  True]\n"
     ]
    }
   ],
   "source": [
    "a=np.array(['f','4','t','g'])\n",
    "b=np.random.randint(1,20,8)\n",
    "print(b)\n",
    "print(b>10)"
   ]
  },
  {
   "cell_type": "code",
   "execution_count": 85,
   "metadata": {},
   "outputs": [
    {
     "name": "stdout",
     "output_type": "stream",
     "text": [
      "[12 18 16 11]\n"
     ]
    }
   ],
   "source": [
    "bool_arr=b>10\n",
    "new_arr=b[bool_arr]\n",
    "print(new_arr)"
   ]
  },
  {
   "cell_type": "code",
   "execution_count": 86,
   "metadata": {},
   "outputs": [
    {
     "data": {
      "text/plain": [
       "array([ 7,  8,  1, 12, 18,  5, 16, 11])"
      ]
     },
     "execution_count": 86,
     "metadata": {},
     "output_type": "execute_result"
    }
   ],
   "source": [
    "c=b\n",
    "c"
   ]
  },
  {
   "cell_type": "code",
   "execution_count": 87,
   "metadata": {},
   "outputs": [
    {
     "data": {
      "text/plain": [
       "array([19, 19, 19, 12, 18,  5, 16, 11])"
      ]
     },
     "execution_count": 87,
     "metadata": {},
     "output_type": "execute_result"
    }
   ],
   "source": [
    "c[:3]=19\n",
    "c"
   ]
  },
  {
   "cell_type": "code",
   "execution_count": 91,
   "metadata": {},
   "outputs": [
    {
     "data": {
      "text/plain": [
       "array([ 1,  1,  1, 12,  1,  5,  1, 11])"
      ]
     },
     "execution_count": 91,
     "metadata": {},
     "output_type": "execute_result"
    }
   ],
   "source": [
    "c[c>15]\n",
    "c[c>15]=1\n",
    "c"
   ]
  },
  {
   "cell_type": "code",
   "execution_count": 92,
   "metadata": {},
   "outputs": [
    {
     "name": "stdout",
     "output_type": "stream",
     "text": [
      "[ 1  1  1 12  1  5  1 11]\n"
     ]
    }
   ],
   "source": [
    "print(b)"
   ]
  },
  {
   "cell_type": "code",
   "execution_count": 97,
   "metadata": {},
   "outputs": [
    {
     "data": {
      "text/plain": [
       "(array([0, 1, 2, 4, 6]),)"
      ]
     },
     "execution_count": 97,
     "metadata": {},
     "output_type": "execute_result"
    }
   ],
   "source": [
    "x=np.where(b==1)\n",
    "x"
   ]
  },
  {
   "cell_type": "code",
   "execution_count": 99,
   "metadata": {},
   "outputs": [
    {
     "name": "stdout",
     "output_type": "stream",
     "text": [
      "[1 2 3 5 8]\n"
     ]
    }
   ],
   "source": [
    "c=np.array([1,2,3,4,5,7,8,9])\n",
    "print(c[x])"
   ]
  },
  {
   "cell_type": "markdown",
   "metadata": {},
   "source": [
    "Find indices of non-zero elements from the array\n",
    "[1,2,0,0,4,0] ?\n",
    "Print the index of non-zero elements."
   ]
  },
  {
   "cell_type": "code",
   "execution_count": 100,
   "metadata": {},
   "outputs": [
    {
     "data": {
      "text/plain": [
       "(array([0, 1, 4]),)"
      ]
     },
     "execution_count": 100,
     "metadata": {},
     "output_type": "execute_result"
    }
   ],
   "source": [
    "a=np.array([1,2,0,0,4,0])\n",
    "c=np.where(a!=0)\n",
    "c"
   ]
  },
  {
   "cell_type": "markdown",
   "metadata": {},
   "source": [
    "Given an integer array of size 10. Print the index of elements which are multiple of 3.\n",
    "Note: Generate the following array\n",
    "array(I 1, 3, 5, 7, 9, 11, 13, 15, 17, 19])"
   ]
  },
  {
   "cell_type": "code",
   "execution_count": 101,
   "metadata": {},
   "outputs": [
    {
     "data": {
      "text/plain": [
       "(array([1, 4, 7]),)"
      ]
     },
     "execution_count": 101,
     "metadata": {},
     "output_type": "execute_result"
    }
   ],
   "source": [
    "a=np.array([ 1, 3, 5, 7, 9, 11, 13, 15, 17, 19])\n",
    "b=np.where(a%3==0)\n",
    "b"
   ]
  },
  {
   "cell_type": "markdown",
   "metadata": {},
   "source": [
    "Given an integer array of size 10. Replace the odd number in numpy array with -1 ?\n",
    "Note: Generate the following array\n",
    "array([1, 2, 3, 4, 5, 6, 7, 8, 9, 10])"
   ]
  },
  {
   "cell_type": "code",
   "execution_count": 103,
   "metadata": {},
   "outputs": [
    {
     "data": {
      "text/plain": [
       "array([ 1, -1,  3, -1,  5, -1,  7, -1,  9, -1])"
      ]
     },
     "execution_count": 103,
     "metadata": {},
     "output_type": "execute_result"
    }
   ],
   "source": [
    "a=np.array([1, 2, 3, 4, 5, 6, 7, 8, 9, 10])\n",
    "b=np.where(a%2==0)\n",
    "a[b]=-1\n",
    "a"
   ]
  },
  {
   "cell_type": "markdown",
   "metadata": {},
   "source": [
    "Given an integer array of size 10 and replace the first occurrence of maximum value by 0?\n",
    "Note: Generate the following array\n",
    "array ([11, 2, 13, 4, 15, 6, 27, 8, 19])"
   ]
  },
  {
   "cell_type": "code",
   "execution_count": 104,
   "metadata": {},
   "outputs": [
    {
     "data": {
      "text/plain": [
       "array([11,  2, 13,  4, 15,  6,  0,  8, 19])"
      ]
     },
     "execution_count": 104,
     "metadata": {},
     "output_type": "execute_result"
    }
   ],
   "source": [
    "a=np.array([11, 2, 13, 4, 15, 6, 27, 8, 19])\n",
    "b=np.argmax(a)\n",
    "a[b]=0\n",
    "a"
   ]
  },
  {
   "cell_type": "markdown",
   "metadata": {},
   "source": [
    "Given a 1D array, negate all elements which are between 3 and 8 (both inclusive)?\n",
    "Note: Generate the following array\n",
    "array ([1, 2, 3, 4, 5, 6, 7, 8, 9, 10])"
   ]
  },
  {
   "cell_type": "code",
   "execution_count": 109,
   "metadata": {},
   "outputs": [
    {
     "data": {
      "text/plain": [
       "array([ 1,  2,  3, -4, -5, -6, -7, -8,  9, 10])"
      ]
     },
     "execution_count": 109,
     "metadata": {},
     "output_type": "execute_result"
    }
   ],
   "source": [
    "a=np.array([1, 2, 3, 4, 5, 6, 7, 8, 9, 10])\n",
    "b=np.where((a>3)&(a<9))\n",
    "a[b]=-a[b]\n",
    "a"
   ]
  },
  {
   "cell_type": "markdown",
   "metadata": {},
   "source": [
    "Given age and height of 20 students in two different numpy arrays with name age and height (in cms). Print the age of those students whose height is above 155 cm.\n",
    "Print the Numpy array."
   ]
  },
  {
   "cell_type": "code",
   "execution_count": 112,
   "metadata": {},
   "outputs": [
    {
     "name": "stdout",
     "output_type": "stream",
     "text": [
      "[24 25 27]\n"
     ]
    }
   ],
   "source": [
    "heights=np.array([121,156,181,134,178,111,144])\n",
    "age=np.array([23,24,25,26,27,28,29])\n",
    "x=np.where(heights>155)\n",
    "print(age[x])"
   ]
  },
  {
   "cell_type": "markdown",
   "metadata": {},
   "source": [
    "2d boolean indexing"
   ]
  },
  {
   "cell_type": "code",
   "execution_count": 121,
   "metadata": {},
   "outputs": [
    {
     "data": {
      "text/plain": [
       "array([[25, 24, 16,  9, 28, 19],\n",
       "       [ 2,  4, 26, 21, 25, 12],\n",
       "       [14,  5, 15,  3, 17, 19],\n",
       "       [ 3,  4, 28,  6,  4, 13],\n",
       "       [23,  2, 26, 13,  1, 16]])"
      ]
     },
     "execution_count": 121,
     "metadata": {},
     "output_type": "execute_result"
    }
   ],
   "source": [
    "a=np.random.randint(1,30,(5,6))\n",
    "a"
   ]
  },
  {
   "cell_type": "code",
   "execution_count": 122,
   "metadata": {},
   "outputs": [
    {
     "data": {
      "text/plain": [
       "array([25, 24, 28, 26, 21, 25, 28, 23, 26])"
      ]
     },
     "execution_count": 122,
     "metadata": {},
     "output_type": "execute_result"
    }
   ],
   "source": [
    "bool_arr=a>20\n",
    "bool_arr\n",
    "a[bool_arr]"
   ]
  },
  {
   "cell_type": "code",
   "execution_count": 118,
   "metadata": {},
   "outputs": [
    {
     "data": {
      "text/plain": [
       "array([[ 17,   2,  16,  19,  13,   6],\n",
       "       [100, 100, 100,   5,  10, 100],\n",
       "       [ 20, 100,  10, 100,   1,  12],\n",
       "       [100,  15, 100, 100,  16,  18],\n",
       "       [ 18,   1,  11, 100,  11,   1]])"
      ]
     },
     "execution_count": 118,
     "metadata": {},
     "output_type": "execute_result"
    }
   ],
   "source": [
    "b=a\n",
    "b[bool_arr]=100\n",
    "b"
   ]
  },
  {
   "cell_type": "markdown",
   "metadata": {},
   "source": [
    "make sure boolean array is of same shape as original array"
   ]
  },
  {
   "cell_type": "code",
   "execution_count": 123,
   "metadata": {},
   "outputs": [
    {
     "data": {
      "text/plain": [
       "array([False, False,  True,  True,  True])"
      ]
     },
     "execution_count": 123,
     "metadata": {},
     "output_type": "execute_result"
    }
   ],
   "source": [
    "bool_arr=b[:,3]==100\n",
    "bool_arr"
   ]
  },
  {
   "cell_type": "code",
   "execution_count": 124,
   "metadata": {},
   "outputs": [
    {
     "data": {
      "text/plain": [
       "array([[ 17,   2,  16,  19,  13,   6],\n",
       "       [100, 100, 100,   5,  10, 100],\n",
       "       [ 20, 100,  10,  99,   1,  12],\n",
       "       [100,  15, 100,  99,  16,  18],\n",
       "       [ 18,   1,  11,  99,  11,   1]])"
      ]
     },
     "execution_count": 124,
     "metadata": {},
     "output_type": "execute_result"
    }
   ],
   "source": [
    "b[bool_arr,3]=99\n",
    "b"
   ]
  },
  {
   "cell_type": "markdown",
   "metadata": {},
   "source": [
    "Sort a given 2D array of shape (4, 5) by 2nd column (i.e. column at index 1) in ascending order.\n",
    "That means, we should re-arrange complete row based on 2nd columns' values.\n",
    "Given 2D array is:\n",
    "[[21 20 19 18 17]\n",
    "[16 15 14 13 12]\n",
    "[11 10 9 8 7]\n",
    "[6 5 4 3 21]]\n",
    "\n",
    "Print the 2D array in sorted order.\n",
    "Note you have to generate the 2D Array.Here 2nd column means column present at index 1.\n",
    "Output Format :\n",
    "[[6 5 4 3 21]\n",
    "[11 10 9 8 7]\n",
    "[16 15 14 13 12]\n",
    "[21 20 19 18 17]]"
   ]
  },
  {
   "cell_type": "code",
   "execution_count": 125,
   "metadata": {},
   "outputs": [
    {
     "data": {
      "text/plain": [
       "array([[21, 20, 19, 18, 17],\n",
       "       [16, 15, 14, 13, 12],\n",
       "       [11, 10,  9,  8,  7],\n",
       "       [ 6,  5,  4,  3, 21]])"
      ]
     },
     "execution_count": 125,
     "metadata": {},
     "output_type": "execute_result"
    }
   ],
   "source": [
    "a=np.array([[21,20,19,18,17],[16,15,14,13,12],[11,10,9,8,7],\n",
    "[6,5,4,3,21]]\n",
    ")\n",
    "a"
   ]
  },
  {
   "cell_type": "code",
   "execution_count": 128,
   "metadata": {},
   "outputs": [
    {
     "data": {
      "text/plain": [
       "array([ 5, 10, 15, 20])"
      ]
     },
     "execution_count": 128,
     "metadata": {},
     "output_type": "execute_result"
    }
   ],
   "source": [
    "np.sort(a[:,1])"
   ]
  },
  {
   "cell_type": "code",
   "execution_count": 131,
   "metadata": {},
   "outputs": [
    {
     "data": {
      "text/plain": [
       "array([3, 2, 1, 0])"
      ]
     },
     "execution_count": 131,
     "metadata": {},
     "output_type": "execute_result"
    }
   ],
   "source": [
    "a[:,1].argsort()"
   ]
  },
  {
   "cell_type": "code",
   "execution_count": 130,
   "metadata": {},
   "outputs": [
    {
     "data": {
      "text/plain": [
       "array([[ 6,  5,  4,  3, 21],\n",
       "       [11, 10,  9,  8,  7],\n",
       "       [16, 15, 14, 13, 12],\n",
       "       [21, 20, 19, 18, 17]])"
      ]
     },
     "execution_count": 130,
     "metadata": {},
     "output_type": "execute_result"
    }
   ],
   "source": [
    "a[a[:,1].argsort()]"
   ]
  },
  {
   "cell_type": "markdown",
   "metadata": {},
   "source": [
    "working with different size arrays- Broadcasting"
   ]
  },
  {
   "cell_type": "code",
   "execution_count": 132,
   "metadata": {},
   "outputs": [
    {
     "name": "stdout",
     "output_type": "stream",
     "text": [
      "[[8 8 5]\n",
      " [8 9 1]\n",
      " [9 9 5]]\n",
      "[8 5 2]\n"
     ]
    }
   ],
   "source": [
    "x=np.random.randint(1,10,(3,3))\n",
    "y=np.random.randint(1,10,3)\n",
    "print(x)\n",
    "print(y)"
   ]
  },
  {
   "cell_type": "code",
   "execution_count": 133,
   "metadata": {},
   "outputs": [
    {
     "name": "stdout",
     "output_type": "stream",
     "text": [
      "[[ 0  3  3]\n",
      " [ 0  4 -1]\n",
      " [ 1  4  3]]\n"
     ]
    }
   ],
   "source": [
    "print(x-y)"
   ]
  },
  {
   "cell_type": "markdown",
   "metadata": {},
   "source": [
    "working with csv file"
   ]
  },
  {
   "cell_type": "code",
   "execution_count": 144,
   "metadata": {},
   "outputs": [],
   "source": [
    "import csv\n",
    "file_obj=open(\"datasets/year2017.csv\")\n",
    "data=csv.DictReader(file_obj,skipinitialspace=True)"
   ]
  },
  {
   "cell_type": "code",
   "execution_count": 145,
   "metadata": {},
   "outputs": [
    {
     "data": {
      "text/plain": [
       "array([0., 2., 7., ..., 0., 0., 0.])"
      ]
     },
     "execution_count": 145,
     "metadata": {},
     "output_type": "execute_result"
    }
   ],
   "source": [
    "killed=[]\n",
    "wounded=[]\n",
    "country=[]\n",
    "for row in data:\n",
    "    killed.append(row['Killed'])\n",
    "    wounded.append(row['Wounded'])\n",
    "    country.append(row['Country'])\n",
    "    \n",
    "np_killed=np.array(killed)\n",
    "np_wounded=np.array(wounded)\n",
    "\n",
    "np_killed[np_killed==\"\"]='0.0'\n",
    "np_wounded[np_wounded==\"\"]='0.0'\n",
    "\n",
    "np_killed=np.array(np_killed,dtype=float)\n",
    "np_wounded=np.array(np_wounded,dtype=float)\n",
    "\n",
    "kill_wounded=np_killed+np_wounded\n",
    "kill_wounded\n",
    "\n"
   ]
  },
  {
   "cell_type": "code",
   "execution_count": 146,
   "metadata": {},
   "outputs": [
    {
     "data": {
      "text/plain": [
       "array([ 0.,  1.,  4.,  1.,  1.,  0.,  2.,  2.,  0.,  1.,  2.,  2.,  1.,\n",
       "        0.,  1.,  4.,  0.,  0.,  0.,  0.,  0.,  0.,  1.,  4.,  1.,  2.,\n",
       "        1.,  0.,  5.,  1.,  0.,  0.,  1.,  1.,  0.,  0.,  7.,  0.,  1.,\n",
       "        0.,  0.,  0.,  0.,  0.,  4.,  0., 95.,  0.,  2.,  0.,  1.,  0.,\n",
       "        1.,  0.,  0.,  0.,  0.,  0.,  0.,  1.,  1.,  0.,  0.,  0.,  0.,\n",
       "        0.,  0.,  0.,  0.,  0.,  2.,  0.,  1.,  1., 18.,  2., 13.,  1.,\n",
       "        0.,  3.,  0.,  1.,  0.,  0.,  0.,  1.,  1., 10.,  0.,  0.,  1.,\n",
       "        1.,  0.,  1.,  0.,  0.,  1.,  1.,  0.,  0.,  2.,  1.,  0.,  4.,\n",
       "        0.,  0.,  0.,  0.,  0.,  1.,  0.,  5.,  2.,  0.,  0.,  0.,  2.,\n",
       "        1.,  2.,  0.,  0.,  0.,  0.,  1.,  1.,  4.,  1.,  0.,  0.,  1.,\n",
       "        1.,  1.,  9.,  0.,  0.,  0.,  0.,  0.,  2.,  0.,  0.,  0.,  0.,\n",
       "        0.,  0.,  0.,  0.,  2.,  0.,  0.,  0.,  0.,  0.,  0.,  1.,  0.,\n",
       "        0.,  8.,  0.,  0.,  0.,  0.,  0.,  2.,  0.,  0.,  0.,  0.,  1.,\n",
       "        0.,  3.,  0.,  0.,  0.,  0.,  0.,  0., 10.,  1.,  1.,  0.,  0.,\n",
       "        0.,  5.,  1.,  0.,  2.,  0.,  1.,  1., 16.,  0.,  0.,  1.,  0.,\n",
       "        1.,  1.,  1.,  1.,  0.,  2.,  0.,  0.,  1.,  2.,  0.,  0.,  0.,\n",
       "        0.,  1.,  0.,  0.,  0.,  1.,  1.,  1.,  0.,  1.,  0.,  0.,  0.,\n",
       "        0.,  0.,  0.,  0.,  0.,  1.,  0.,  1.,  3.,  0.,  0.,  0.,  0.,\n",
       "        1.,  0.,  1.,  0.,  0.,  0.,  1.,  0.,  0.,  0.,  1.,  1.,  3.,\n",
       "        1.,  0., 11.,  8.,  2.,  1.,  1.,  0.,  0.,  1.,  1.,  0.,  0.,\n",
       "        0.,  1.,  1.,  4.,  0.,  0.,  0.,  0.,  0.,  1.,  0.,  0.,  0.,\n",
       "        0.,  0.,  0.,  0.,  0.,  0.,  2.,  1.,  1.,  0.,  0.,  1.,  2.,\n",
       "        0.,  1.,  1.,  1.,  0.,  2.,  2.,  0.,  2.,  0.,  0.,  1.,  2.,\n",
       "       42.,  0.,  1.,  1.,  3.,  0.,  1., 10.,  0.,  1.,  0.,  2.,  2.,\n",
       "        0.,  0.,  0.,  0.,  0.,  0.,  5.,  1.,  2.,  0.,  7.,  0.,  1.,\n",
       "        1.,  0.,  0., 20.,  3.,  0.,  3.,  0.,  2.,  1.,  1.,  9.,  2.,\n",
       "        3.,  0.,  4.,  0.,  1.,  1.,  0.,  0.,  0.,  0.,  2.,  1.,  0.,\n",
       "        0.,  1.,  0.,  0.,  1.,  1.,  0.,  1.,  1.,  0.,  0.,  4.,  0.,\n",
       "        0.,  1.,  0.,  1.,  1.,  1.,  2.,  4.,  0.,  0.,  2.,  0.,  0.,\n",
       "        0., 25.,  0.,  1.,  2.,  0.,  0.,  0.,  1.,  2.,  2.,  0.,  3.,\n",
       "        1.,  0.,  1.,  1.,  0.,  1.,  0.,  0.,  1.,  2.,  0.,  0.,  0.,\n",
       "        0.,  0.,  0.,  0.,  0.,  0.,  0.,  0.,  2.,  0.,  0.,  5.,  0.,\n",
       "        0.,  0.,  2.,  0.,  0.,  0.,  4.,  0.,  0.,  0.,  0.,  0.,  6.,\n",
       "        3.,  7.,  4.,  0.,  1.,  0.,  0.,  0.,  0.,  0.,  1.,  4.,  0.,\n",
       "        1.,  7.,  3.,  2.,  0.,  0.,  0.,  0., 10.,  0.,  2.,  0.,  2.,\n",
       "        0.,  2.,  1.,  1.,  0.,  0.,  1.,  2.,  1.,  4.,  0.,  0.,  0.,\n",
       "        0.,  0.,  8.,  1.,  0.,  0.,  1.,  0.,  0.,  0.,  0.,  0.,  1.,\n",
       "        5.,  0.,  0.,  0.,  0.,  1.,  1.,  0.,  0.,  3.,  1.,  1.,  5.,\n",
       "        1.,  1.,  0.,  2.,  1.,  0.,  0.,  0.,  0.,  0.,  0.,  0.,  0.,\n",
       "        0.,  0.,  0.,  0.,  0.,  0.,  3.,  0.,  1.,  2.,  0.,  0.,  0.,\n",
       "        0.,  0.,  2.,  0.,  1.,  0.,  0.,  3.,  1.,  0.,  0.,  0.,  1.,\n",
       "        0.,  0.,  0.,  0.,  0.,  0., 26.,  1.,  1.,  0.,  1.,  0.,  2.,\n",
       "        1.,  0.,  0.,  0.,  0.,  0.,  0.,  0.,  0.,  0.,  0.,  0.,  0.,\n",
       "        0.,  0.,  0.,  0.,  0.,  0.,  3.,  0.,  0.,  1.,  1.,  0.,  0.,\n",
       "        1.,  0.,  1.,  0.,  0.,  1.,  0.,  0.,  0.,  0.,  0.,  0.,  0.,\n",
       "        0.,  0.,  0.,  1.,  0.,  1.,  1.,  0.,  0.,  0.,  0.,  0.,  0.,\n",
       "        0.,  0.,  1.,  0.,  0.,  0.,  1.,  0.,  0.,  0.,  1.,  0.,  0.,\n",
       "        2.,  1., 15., 10.,  1.,  0.,  0.,  2.,  0.,  0.,  0.,  3.,  0.,\n",
       "        0.,  1.,  0.,  0.,  2.,  1.,  0.,  0.,  1.,  1.,  0.,  0.,  0.,\n",
       "        0.,  0.,  0.,  0.,  1.,  1.,  0.,  1.,  0.,  0.,  0.,  0.,  4.,\n",
       "        0.,  3.,  5.,  2.,  0.,  0.,  0.,  3.,  0.,  1.,  1.,  1.,  1.,\n",
       "        0.,  0.,  0.,  0.,  0.,  0.,  1.,  0.,  1.,  0.,  0.,  0., 16.,\n",
       "        0.,  0.,  1.,  1.,  0.,  0.,  0.,  1.,  1.,  8.,  1.,  0.,  2.,\n",
       "        1.,  4.,  4.,  1.,  0.,  1.,  0.,  1.,  0.,  1.,  0.,  0., 14.,\n",
       "        0.,  1.,  1.,  3.,  2.,  2.,  1.,  3.,  1.,  0.,  0.,  0.,  0.,\n",
       "        0.,  0.,  1.,  4.,  0.,  1.,  2.,  0.,  0.,  2.,  2.,  2.,  1.,\n",
       "       33.,  0.,  1.,  7.,  1.,  0.,  0.,  0.,  0.,  0.,  0.,  0.,  5.,\n",
       "        0.,  0.,  0.,  0.,  2.,  1.,  1.,  1.,  1.,  2.,  0.,  0.,  1.,\n",
       "        7.,  1.,  1.,  2.,  0.,  0.,  0.,  0.,  1.,  2.,  1.,  1.,  1.,\n",
       "        1.,  1.,  0.,  1.,  1.,  0.,  1.,  1.,  1.,  0.,  0.,  0.,  0.,\n",
       "        1.,  1.,  1.,  0.,  2.,  1.,  0., 10.,  3.,  0.,  0.,  1.,  0.,\n",
       "        1.,  0.,  2.,  0.,  1.,  1.,  0.,  1.,  1.,  1.,  0.,  1.,  0.,\n",
       "        0.,  0.,  0.,  0.,  1.,  1.,  2.,  1.,  1.,  0.,  0.,  1.,  1.,\n",
       "        1.,  0.,  0.,  0.,  1.,  4.,  1.,  0.,  0.,  0.,  0.,  0.,  0.,\n",
       "        2.,  0.,  1.,  0.,  0.,  1.,  2.,  1.,  5.,  1.,  2.,  0.,  0.,\n",
       "        1.,  0.,  0.,  2.,  1.,  1.,  0.,  0.,  0.,  4.,  0.,  0.,  0.,\n",
       "        0.,  8.,  3.,  2.,  0.,  7.,  7.,  0.,  4.,  1.,  3.,  1.,  0.,\n",
       "        1.,  0.,  0.,  3.,  1.,  1.,  0.,  0.,  1.,  3.,  1.,  0.,  0.,\n",
       "        0.,  1.,  0.,  0.,  3.,  1.,  1.,  1.,  0.,  2.,  0.,  1.,  1.,\n",
       "        0.,  1.,  3.,  0.,  1.,  0.,  1.,  0.,  1.,  4.,  0.,  0.,  1.,\n",
       "        0.,  0.,  0.,  0.,  1.,  0.,  1.,  0.,  4.,  1.,  1.,  0.,  0.,\n",
       "        2.,  0.,  1.,  0.,  3.,  2.,  1.,  0.,  0.,  0.,  1.,  0.,  0.,\n",
       "        0.,  4.,  1.,  0.,  1.,  2.,  0.,  1.,  0.,  1.,  0.,  0.,  0.,\n",
       "        0.,  1.,  0.,  0.,  0.,  0.,  0.,  0.,  0.,  0.,  0.,  1.,  0.,\n",
       "        0., 11.,  0.,  0.])"
      ]
     },
     "execution_count": 146,
     "metadata": {},
     "output_type": "execute_result"
    }
   ],
   "source": [
    "np_country=np.array(country)\n",
    "bool_arr=np_country==\"India\"\n",
    "ans=kill_wounded[bool_arr]\n"
   ]
  },
  {
   "cell_type": "code",
   "execution_count": 147,
   "metadata": {},
   "outputs": [
    {
     "data": {
      "text/plain": [
       "1167.0"
      ]
     },
     "execution_count": 147,
     "metadata": {},
     "output_type": "execute_result"
    }
   ],
   "source": [
    "np.sum(ans)"
   ]
  }
 ],
 "metadata": {
  "kernelspec": {
   "display_name": "Python 3.11.1 64-bit",
   "language": "python",
   "name": "python3"
  },
  "language_info": {
   "codemirror_mode": {
    "name": "ipython",
    "version": 3
   },
   "file_extension": ".py",
   "mimetype": "text/x-python",
   "name": "python",
   "nbconvert_exporter": "python",
   "pygments_lexer": "ipython3",
   "version": "3.11.1"
  },
  "orig_nbformat": 4,
  "vscode": {
   "interpreter": {
    "hash": "aee8b7b246df8f9039afb4144a1f6fd8d2ca17a180786b69acc140d282b71a49"
   }
  }
 },
 "nbformat": 4,
 "nbformat_minor": 2
}
